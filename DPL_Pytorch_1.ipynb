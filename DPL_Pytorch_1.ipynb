{
  "nbformat": 4,
  "nbformat_minor": 0,
  "metadata": {
    "colab": {
      "provenance": [],
      "authorship_tag": "ABX9TyNOfGO5lSteIQ9LvkfKYve9",
      "include_colab_link": true
    },
    "kernelspec": {
      "name": "python3",
      "display_name": "Python 3"
    },
    "language_info": {
      "name": "python"
    }
  },
  "cells": [
    {
      "cell_type": "markdown",
      "metadata": {
        "id": "view-in-github",
        "colab_type": "text"
      },
      "source": [
        "<a href=\"https://colab.research.google.com/github/Vishal35198/Linear_Reg-From-Scratch/blob/main/DPL_Pytorch_1.ipynb\" target=\"_parent\"><img src=\"https://colab.research.google.com/assets/colab-badge.svg\" alt=\"Open In Colab\"/></a>"
      ]
    },
    {
      "cell_type": "code",
      "execution_count": 3,
      "metadata": {
        "id": "7VpePtoXI7FW"
      },
      "outputs": [],
      "source": [
        "# Importing the Packages\n",
        "import torch\n",
        "import numpy as np"
      ]
    },
    {
      "cell_type": "code",
      "source": [
        "x = torch.tensor(3.,requires_grad=True)\n",
        "w = torch.tensor(4.,requires_grad= True)\n",
        "b = torch.tensor(5.,requires_grad=True)"
      ],
      "metadata": {
        "id": "jNX0-D69JG0B"
      },
      "execution_count": 4,
      "outputs": []
    },
    {
      "cell_type": "code",
      "source": [
        "y = x*w +b"
      ],
      "metadata": {
        "id": "R2udu2M7JRrM"
      },
      "execution_count": 5,
      "outputs": []
    },
    {
      "cell_type": "code",
      "source": [
        "y"
      ],
      "metadata": {
        "colab": {
          "base_uri": "https://localhost:8080/"
        },
        "id": "SWoRScB5JzSh",
        "outputId": "b0f198e8-f6d2-428d-d205-ac4e359694c7"
      },
      "execution_count": 6,
      "outputs": [
        {
          "output_type": "execute_result",
          "data": {
            "text/plain": [
              "tensor(17., grad_fn=<AddBackward0>)"
            ]
          },
          "metadata": {},
          "execution_count": 6
        }
      ]
    },
    {
      "cell_type": "code",
      "source": [
        "y.backward()\n",
        "y"
      ],
      "metadata": {
        "colab": {
          "base_uri": "https://localhost:8080/"
        },
        "id": "km9l7v-aJ1y3",
        "outputId": "33081d57-b8a3-473e-984b-478a9a65d523"
      },
      "execution_count": 7,
      "outputs": [
        {
          "output_type": "execute_result",
          "data": {
            "text/plain": [
              "tensor(17., grad_fn=<AddBackward0>)"
            ]
          },
          "metadata": {},
          "execution_count": 7
        }
      ]
    },
    {
      "cell_type": "code",
      "source": [
        "print(f'The derivative of y wrt to b is {w.grad}')"
      ],
      "metadata": {
        "colab": {
          "base_uri": "https://localhost:8080/"
        },
        "id": "U-aHT6bAJ9zA",
        "outputId": "bebf33a0-6f18-480f-c8bf-dd91d5a1a843"
      },
      "execution_count": 8,
      "outputs": [
        {
          "output_type": "stream",
          "name": "stdout",
          "text": [
            "The derivative of y wrt to b is 3.0\n"
          ]
        }
      ]
    },
    {
      "cell_type": "code",
      "source": [
        "inputs = np.array([[73, 67, 43],\n",
        "                   [91, 88, 64],\n",
        "                   [87, 134, 58],\n",
        "                   [102, 43, 37],\n",
        "                   [69, 96, 70]], dtype='float32')"
      ],
      "metadata": {
        "id": "mcUUDQPfKN3Z"
      },
      "execution_count": 9,
      "outputs": []
    },
    {
      "cell_type": "code",
      "source": [
        "targets = np.array([[56, 70],\n",
        "                    [81, 101],\n",
        "                    [119, 133],\n",
        "                    [22, 37],\n",
        "                    [103, 119]], dtype='float32')"
      ],
      "metadata": {
        "id": "0JXdtd1usuDL"
      },
      "execution_count": 10,
      "outputs": []
    },
    {
      "cell_type": "code",
      "source": [
        "inputs = torch.from_numpy(inputs)\n",
        "targets = torch.from_numpy(targets)\n",
        "type(inputs)"
      ],
      "metadata": {
        "colab": {
          "base_uri": "https://localhost:8080/"
        },
        "id": "ijmfEvFUs3v-",
        "outputId": "36933bfc-a344-45c5-a620-62805c7bae10"
      },
      "execution_count": 11,
      "outputs": [
        {
          "output_type": "execute_result",
          "data": {
            "text/plain": [
              "torch.Tensor"
            ]
          },
          "metadata": {},
          "execution_count": 11
        }
      ]
    },
    {
      "cell_type": "markdown",
      "source": [
        "# Linear Regression From Scratch"
      ],
      "metadata": {
        "id": "iUineGQTtFva"
      }
    },
    {
      "cell_type": "code",
      "source": [
        "w = torch.rand(2,3,requires_grad=True)\n",
        "b = torch.rand(2,requires_grad=True)"
      ],
      "metadata": {
        "id": "Bl9v1IzGtK6t"
      },
      "execution_count": 12,
      "outputs": []
    },
    {
      "cell_type": "code",
      "source": [
        "def model(x):\n",
        "  return x @ w.t() + b"
      ],
      "metadata": {
        "id": "6FtJDEynt-Qa"
      },
      "execution_count": 13,
      "outputs": []
    },
    {
      "cell_type": "code",
      "source": [
        "preds = model(inputs)\n",
        "preds"
      ],
      "metadata": {
        "colab": {
          "base_uri": "https://localhost:8080/"
        },
        "id": "uVVEFoF4ulnM",
        "outputId": "c5fcdd71-14d7-4719-a8b0-b3e4a8c2af17"
      },
      "execution_count": 14,
      "outputs": [
        {
          "output_type": "execute_result",
          "data": {
            "text/plain": [
              "tensor([[ 84.2973,  63.2717],\n",
              "        [111.8393,  85.3703],\n",
              "        [138.2148,  99.3956],\n",
              "        [ 75.8752,  57.3237],\n",
              "        [112.1300,  86.6366]], grad_fn=<AddBackward0>)"
            ]
          },
          "metadata": {},
          "execution_count": 14
        }
      ]
    },
    {
      "cell_type": "code",
      "source": [
        "targets"
      ],
      "metadata": {
        "colab": {
          "base_uri": "https://localhost:8080/"
        },
        "id": "ubmKzLjhu0fE",
        "outputId": "24e2221d-02db-4abe-b78c-24a66e77eeec"
      },
      "execution_count": 15,
      "outputs": [
        {
          "output_type": "execute_result",
          "data": {
            "text/plain": [
              "tensor([[ 56.,  70.],\n",
              "        [ 81., 101.],\n",
              "        [119., 133.],\n",
              "        [ 22.,  37.],\n",
              "        [103., 119.]])"
            ]
          },
          "metadata": {},
          "execution_count": 15
        }
      ]
    },
    {
      "cell_type": "markdown",
      "source": [
        "# Loss Function"
      ],
      "metadata": {
        "id": "H9U8UGwUu315"
      }
    },
    {
      "cell_type": "code",
      "source": [
        "def loss(t1,t2):\n",
        "  diff = t1-t2\n",
        "  return torch.sum(diff*diff)/diff.numel()"
      ],
      "metadata": {
        "id": "Zz7YXTtavDxu"
      },
      "execution_count": 16,
      "outputs": []
    },
    {
      "cell_type": "code",
      "source": [
        "loss(targets,preds)"
      ],
      "metadata": {
        "colab": {
          "base_uri": "https://localhost:8080/"
        },
        "id": "OXiTnl8Yw33P",
        "outputId": "d5001fec-2266-4f34-861a-2958e5144079"
      },
      "execution_count": 17,
      "outputs": [
        {
          "output_type": "execute_result",
          "data": {
            "text/plain": [
              "tensor(798.6157, grad_fn=<DivBackward0>)"
            ]
          },
          "metadata": {},
          "execution_count": 17
        }
      ]
    },
    {
      "cell_type": "code",
      "source": [
        "tu = (10)\n",
        "tu"
      ],
      "metadata": {
        "colab": {
          "base_uri": "https://localhost:8080/"
        },
        "id": "9YjXkDo9w9hG",
        "outputId": "1b7fe739-5f03-4f1f-8d46-f96d39dd2583"
      },
      "execution_count": 18,
      "outputs": [
        {
          "output_type": "execute_result",
          "data": {
            "text/plain": [
              "10"
            ]
          },
          "metadata": {},
          "execution_count": 18
        }
      ]
    },
    {
      "cell_type": "code",
      "source": [
        "list1 = [10,20,30]\n",
        "list1.insert(7,30)\n",
        "list1"
      ],
      "metadata": {
        "colab": {
          "base_uri": "https://localhost:8080/"
        },
        "id": "UkATtxnm06FU",
        "outputId": "41468c8a-002c-4c6f-96a6-19e7131ebe51"
      },
      "execution_count": 19,
      "outputs": [
        {
          "output_type": "execute_result",
          "data": {
            "text/plain": [
              "[10, 20, 30, 30]"
            ]
          },
          "metadata": {},
          "execution_count": 19
        }
      ]
    },
    {
      "cell_type": "code",
      "source": [
        "def sample_value(value):\n",
        "  sum1 = 0\n",
        "  for i in value:\n",
        "    if i%2 !=0:\n",
        "      sum1+= value[i]\n",
        "    else:\n",
        "      sum1-=i\n",
        "\n",
        "  print(sum1)\n"
      ],
      "metadata": {
        "id": "ifuyLfZ21I4M"
      },
      "execution_count": 20,
      "outputs": []
    },
    {
      "cell_type": "code",
      "source": [
        "dict1 = {1:2,2:4,3:6,5:8}\n",
        "sample_value(dict1)"
      ],
      "metadata": {
        "colab": {
          "base_uri": "https://localhost:8080/"
        },
        "id": "31gnn1EA4q5-",
        "outputId": "38e84bf8-b4f0-4875-c26b-8b10a09deddb"
      },
      "execution_count": 21,
      "outputs": [
        {
          "output_type": "stream",
          "name": "stdout",
          "text": [
            "14\n"
          ]
        }
      ]
    },
    {
      "cell_type": "markdown",
      "source": [
        "# Using Pytorch inbuilts"
      ],
      "metadata": {
        "id": "elX4UOsL42gZ"
      }
    },
    {
      "cell_type": "code",
      "source": [
        "import torch.nn as nn"
      ],
      "metadata": {
        "id": "EE_QexzLA3XP"
      },
      "execution_count": 22,
      "outputs": []
    },
    {
      "cell_type": "code",
      "source": [
        "# Input (temp, rainfall, humidity)\n",
        "inputs = np.array([[73, 67, 43],\n",
        "                   [91, 88, 64],\n",
        "                   [87, 134, 58],\n",
        "                   [102, 43, 37],\n",
        "                   [69, 96, 70],\n",
        "                   [74, 66, 43],\n",
        "                   [91, 87, 65],\n",
        "                   [88, 134, 59],\n",
        "                   [101, 44, 37],\n",
        "                   [68, 96, 71],\n",
        "                   [73, 66, 44],\n",
        "                   [92, 87, 64],\n",
        "                   [87, 135, 57],\n",
        "                   [103, 43, 36],\n",
        "                   [68, 97, 70]],\n",
        "                  dtype='float32')\n",
        "\n",
        "# Targets (apples, oranges)\n",
        "targets = np.array([[56, 70],\n",
        "                    [81, 101],\n",
        "                    [119, 133],\n",
        "                    [22, 37],\n",
        "                    [103, 119],\n",
        "                    [57, 69],\n",
        "                    [80, 102],\n",
        "                    [118, 132],\n",
        "                    [21, 38],\n",
        "                    [104, 118],\n",
        "                    [57, 69],\n",
        "                    [82, 100],\n",
        "                    [118, 134],\n",
        "                    [20, 38],\n",
        "                    [102, 120]],\n",
        "                   dtype='float32')\n",
        "\n",
        "inputs = torch.from_numpy(inputs)\n",
        "targets = torch.from_numpy(targets)\n",
        "print(inputs.shape)"
      ],
      "metadata": {
        "colab": {
          "base_uri": "https://localhost:8080/"
        },
        "id": "GhrdUpPfA7M-",
        "outputId": "6dd30e77-7305-4b74-95ce-88f183733426"
      },
      "execution_count": 30,
      "outputs": [
        {
          "output_type": "stream",
          "name": "stdout",
          "text": [
            "torch.Size([15, 3])\n"
          ]
        }
      ]
    },
    {
      "cell_type": "markdown",
      "source": [
        "# dataset and dataloader"
      ],
      "metadata": {
        "id": "K42cS71nBLV9"
      }
    },
    {
      "cell_type": "code",
      "source": [
        "from torch.utils.data import TensorDataset"
      ],
      "metadata": {
        "id": "RhO53TShBOXz"
      },
      "execution_count": 24,
      "outputs": []
    },
    {
      "cell_type": "code",
      "source": [
        "train_ds = TensorDataset(inputs,targets)\n",
        "train_ds[0:3]"
      ],
      "metadata": {
        "colab": {
          "base_uri": "https://localhost:8080/"
        },
        "id": "ev6AlUdjBbtp",
        "outputId": "c34dfb0a-4093-4052-e3ff-8dce4d6d5e87"
      },
      "execution_count": 25,
      "outputs": [
        {
          "output_type": "execute_result",
          "data": {
            "text/plain": [
              "(tensor([[ 73.,  67.,  43.],\n",
              "         [ 91.,  88.,  64.],\n",
              "         [ 87., 134.,  58.]]),\n",
              " tensor([[ 56.,  70.],\n",
              "         [ 81., 101.],\n",
              "         [119., 133.]]))"
            ]
          },
          "metadata": {},
          "execution_count": 25
        }
      ]
    },
    {
      "cell_type": "markdown",
      "source": [
        "# Dataloader"
      ],
      "metadata": {
        "id": "Gtyth3T_Btzg"
      }
    },
    {
      "cell_type": "code",
      "source": [
        "from torch.utils.data import DataLoader"
      ],
      "metadata": {
        "id": "0LtZMVDEBkAy"
      },
      "execution_count": 27,
      "outputs": []
    },
    {
      "cell_type": "code",
      "source": [
        "# using the dataloader class for train_ds, batch_size\n",
        "train_dl = DataLoader(train_ds,batch_size=5,shuffle = True)"
      ],
      "metadata": {
        "id": "g0aUSLU0B9bx"
      },
      "execution_count": 28,
      "outputs": []
    },
    {
      "cell_type": "code",
      "source": [
        "len(train_dl)"
      ],
      "metadata": {
        "colab": {
          "base_uri": "https://localhost:8080/"
        },
        "id": "nzCH_D4FCTb9",
        "outputId": "faa7db4d-ba2e-49d7-d2df-93709d9ff7a8"
      },
      "execution_count": 29,
      "outputs": [
        {
          "output_type": "execute_result",
          "data": {
            "text/plain": [
              "3"
            ]
          },
          "metadata": {},
          "execution_count": 29
        }
      ]
    },
    {
      "cell_type": "markdown",
      "source": [
        "# Using a linear model from nn.linear"
      ],
      "metadata": {
        "id": "fGCrhNglCjqQ"
      }
    },
    {
      "cell_type": "code",
      "source": [
        "model = nn.Linear(3,2)\n",
        "# defining a linear model for 3 inputs and 2 output so 3,2\n",
        "print(model.weight)\n",
        "print(model.bias)"
      ],
      "metadata": {
        "colab": {
          "base_uri": "https://localhost:8080/"
        },
        "id": "Xrzwhv6ICait",
        "outputId": "c243e754-0258-464c-e40f-01d1c9363c93"
      },
      "execution_count": 35,
      "outputs": [
        {
          "output_type": "stream",
          "name": "stdout",
          "text": [
            "Parameter containing:\n",
            "tensor([[ 0.4730, -0.3226,  0.4859],\n",
            "        [-0.5472, -0.2069, -0.0740]], requires_grad=True)\n",
            "Parameter containing:\n",
            "tensor([-0.2933, -0.5253], requires_grad=True)\n"
          ]
        }
      ]
    },
    {
      "cell_type": "markdown",
      "source": [
        "#### Generating a preds from the linear model with random weights and bias"
      ],
      "metadata": {
        "id": "3Dw3HTvGDfvX"
      }
    },
    {
      "cell_type": "code",
      "source": [
        "preds = model(inputs)\n",
        "preds"
      ],
      "metadata": {
        "colab": {
          "base_uri": "https://localhost:8080/"
        },
        "id": "mDX7SwJLC2Zf",
        "outputId": "53f7caa5-897d-4775-a278-4e5d13e7dba4"
      },
      "execution_count": 36,
      "outputs": [
        {
          "output_type": "execute_result",
          "data": {
            "text/plain": [
              "tensor([[ 33.5142, -57.5188],\n",
              "        [ 45.4571, -73.2689],\n",
              "        [ 25.8097, -80.1553],\n",
              "        [ 52.0585, -67.9761],\n",
              "        [ 35.3855, -63.3307],\n",
              "        [ 34.3098, -57.8590],\n",
              "        [ 46.2656, -73.1360],\n",
              "        [ 26.7686, -80.7765],\n",
              "        [ 51.2629, -67.6358],\n",
              "        [ 35.3984, -62.8576],\n",
              "        [ 34.3227, -57.3859],\n",
              "        [ 46.2527, -73.6091],\n",
              "        [ 25.0012, -80.2881],\n",
              "        [ 52.0457, -68.4492],\n",
              "        [ 34.5899, -62.9905]], grad_fn=<AddmmBackward0>)"
            ]
          },
          "metadata": {},
          "execution_count": 36
        }
      ]
    },
    {
      "cell_type": "code",
      "source": [
        "import torch.nn.functional as F"
      ],
      "metadata": {
        "id": "UGcaOtgvDb-8"
      },
      "execution_count": 37,
      "outputs": []
    },
    {
      "cell_type": "code",
      "source": [
        "loss_fn = F.mse_loss"
      ],
      "metadata": {
        "id": "ylT3RIdLDr0Z"
      },
      "execution_count": 39,
      "outputs": []
    },
    {
      "cell_type": "code",
      "source": [
        "loss = loss_fn(preds,targets)\n",
        "print(loss)"
      ],
      "metadata": {
        "colab": {
          "base_uri": "https://localhost:8080/"
        },
        "id": "e1OjoDMYDuvt",
        "outputId": "8be00f45-00e4-4710-ac5b-521c2cf6576e"
      },
      "execution_count": 41,
      "outputs": [
        {
          "output_type": "stream",
          "name": "stdout",
          "text": [
            "tensor(15220.8955, grad_fn=<MseLossBackward0>)\n"
          ]
        }
      ]
    },
    {
      "cell_type": "markdown",
      "source": [
        "# Since the loss is Heavy we will optimize using backpropogation"
      ],
      "metadata": {
        "id": "1LdECAByD_jT"
      }
    },
    {
      "cell_type": "code",
      "source": [
        "opt = torch.optim.SGD(model.parameters(),lr=1e-5)\n",
        "print(opt)"
      ],
      "metadata": {
        "colab": {
          "base_uri": "https://localhost:8080/"
        },
        "id": "PDE7l9TwD5zr",
        "outputId": "c6bdc82d-9f43-4d05-d687-5d366b4ed77b"
      },
      "execution_count": 43,
      "outputs": [
        {
          "output_type": "stream",
          "name": "stdout",
          "text": [
            "SGD (\n",
            "Parameter Group 0\n",
            "    dampening: 0\n",
            "    differentiable: False\n",
            "    foreach: None\n",
            "    fused: None\n",
            "    lr: 1e-05\n",
            "    maximize: False\n",
            "    momentum: 0\n",
            "    nesterov: False\n",
            "    weight_decay: 0\n",
            ")\n"
          ]
        }
      ]
    },
    {
      "cell_type": "markdown",
      "source": [
        "# TrainModel"
      ],
      "metadata": {
        "id": "uQyD4qzYETw5"
      }
    },
    {
      "cell_type": "code",
      "source": [
        "# function to train the model\n",
        "def fit(epochs,model,loss_fn,opt,train_dl):\n",
        "  for epoch in range(epochs):\n",
        "    # training in batches\n",
        "    for x_b,y_b in train_dl:\n",
        "      pred = model(x_b)\n",
        "      loss = loss_fn(pred,y_b)\n",
        "      # computer the gradient\n",
        "      loss.backward()\n",
        "      opt.step()\n",
        "      opt.zero_grad()\n",
        "\n",
        "    if (epoch+1)%10 ==0:\n",
        "      print('Epoch [{}/{}], Loss: {:.4f}'.format(epoch+1, epochs, loss.item()))\n"
      ],
      "metadata": {
        "id": "kUohOl5EESmz"
      },
      "execution_count": 44,
      "outputs": []
    },
    {
      "cell_type": "code",
      "source": [
        "fit(500,model,loss_fn,opt,train_dl)"
      ],
      "metadata": {
        "colab": {
          "base_uri": "https://localhost:8080/"
        },
        "id": "dkonMQmoFtk1",
        "outputId": "75abfc37-ff0b-4934-dc75-2cce7a742ba9"
      },
      "execution_count": 48,
      "outputs": [
        {
          "output_type": "stream",
          "name": "stdout",
          "text": [
            "Epoch [10/500], Loss: 1.3226\n",
            "Epoch [20/500], Loss: 1.4889\n",
            "Epoch [30/500], Loss: 1.9007\n",
            "Epoch [40/500], Loss: 0.7260\n",
            "Epoch [50/500], Loss: 0.8648\n",
            "Epoch [60/500], Loss: 1.1557\n",
            "Epoch [70/500], Loss: 1.4598\n",
            "Epoch [80/500], Loss: 1.5711\n",
            "Epoch [90/500], Loss: 1.7319\n",
            "Epoch [100/500], Loss: 1.3845\n",
            "Epoch [110/500], Loss: 0.9012\n",
            "Epoch [120/500], Loss: 1.3646\n",
            "Epoch [130/500], Loss: 0.8693\n",
            "Epoch [140/500], Loss: 1.4601\n",
            "Epoch [150/500], Loss: 1.1007\n",
            "Epoch [160/500], Loss: 1.1769\n",
            "Epoch [170/500], Loss: 0.7485\n",
            "Epoch [180/500], Loss: 1.6870\n",
            "Epoch [190/500], Loss: 1.6350\n",
            "Epoch [200/500], Loss: 1.3457\n",
            "Epoch [210/500], Loss: 1.2366\n",
            "Epoch [220/500], Loss: 1.0206\n",
            "Epoch [230/500], Loss: 1.0484\n",
            "Epoch [240/500], Loss: 1.3692\n",
            "Epoch [250/500], Loss: 1.6238\n",
            "Epoch [260/500], Loss: 1.3529\n",
            "Epoch [270/500], Loss: 1.3332\n",
            "Epoch [280/500], Loss: 1.5671\n",
            "Epoch [290/500], Loss: 1.3587\n",
            "Epoch [300/500], Loss: 1.1437\n",
            "Epoch [310/500], Loss: 1.3240\n",
            "Epoch [320/500], Loss: 0.8450\n",
            "Epoch [330/500], Loss: 0.7402\n",
            "Epoch [340/500], Loss: 1.4559\n",
            "Epoch [350/500], Loss: 1.1178\n",
            "Epoch [360/500], Loss: 0.8050\n",
            "Epoch [370/500], Loss: 1.0070\n",
            "Epoch [380/500], Loss: 1.3081\n",
            "Epoch [390/500], Loss: 0.9750\n",
            "Epoch [400/500], Loss: 1.5683\n",
            "Epoch [410/500], Loss: 1.3687\n",
            "Epoch [420/500], Loss: 0.9946\n",
            "Epoch [430/500], Loss: 0.9375\n",
            "Epoch [440/500], Loss: 1.0340\n",
            "Epoch [450/500], Loss: 1.0839\n",
            "Epoch [460/500], Loss: 1.4041\n",
            "Epoch [470/500], Loss: 0.8742\n",
            "Epoch [480/500], Loss: 1.3186\n",
            "Epoch [490/500], Loss: 1.2653\n",
            "Epoch [500/500], Loss: 0.9848\n"
          ]
        }
      ]
    },
    {
      "cell_type": "code",
      "source": [
        "preds = model(inputs)\n",
        "print(preds)"
      ],
      "metadata": {
        "colab": {
          "base_uri": "https://localhost:8080/"
        },
        "id": "ocZs8HuaF5Cf",
        "outputId": "acdbf7c0-63c5-40ed-b1b1-e9f212d95a53"
      },
      "execution_count": 51,
      "outputs": [
        {
          "output_type": "stream",
          "name": "stdout",
          "text": [
            "tensor([[ 56.8994,  70.3205],\n",
            "        [ 82.0799, 100.4789],\n",
            "        [118.1690, 133.0421],\n",
            "        [ 20.8161,  37.8293],\n",
            "        [101.8852, 118.2518],\n",
            "        [ 55.6555,  69.2440],\n",
            "        [ 81.9417, 100.5577],\n",
            "        [118.4694, 133.6404],\n",
            "        [ 22.0599,  38.9058],\n",
            "        [102.9908, 119.4071],\n",
            "        [ 56.7611,  70.3993],\n",
            "        [ 80.8361,  99.4023],\n",
            "        [118.3073, 132.9633],\n",
            "        [ 19.7105,  36.6739],\n",
            "        [103.1291, 119.3284]], grad_fn=<AddmmBackward0>)\n"
          ]
        }
      ]
    },
    {
      "cell_type": "code",
      "source": [
        "targets"
      ],
      "metadata": {
        "colab": {
          "base_uri": "https://localhost:8080/"
        },
        "id": "20MGHM-TGYbG",
        "outputId": "84c5a35c-bf5a-4807-e355-6d7a9b4ba9f1"
      },
      "execution_count": 52,
      "outputs": [
        {
          "output_type": "execute_result",
          "data": {
            "text/plain": [
              "tensor([[ 56.,  70.],\n",
              "        [ 81., 101.],\n",
              "        [119., 133.],\n",
              "        [ 22.,  37.],\n",
              "        [103., 119.],\n",
              "        [ 57.,  69.],\n",
              "        [ 80., 102.],\n",
              "        [118., 132.],\n",
              "        [ 21.,  38.],\n",
              "        [104., 118.],\n",
              "        [ 57.,  69.],\n",
              "        [ 82., 100.],\n",
              "        [118., 134.],\n",
              "        [ 20.,  38.],\n",
              "        [102., 120.]])"
            ]
          },
          "metadata": {},
          "execution_count": 52
        }
      ]
    },
    {
      "cell_type": "code",
      "source": [],
      "metadata": {
        "id": "couX-OJrGnkh"
      },
      "execution_count": null,
      "outputs": []
    }
  ]
}